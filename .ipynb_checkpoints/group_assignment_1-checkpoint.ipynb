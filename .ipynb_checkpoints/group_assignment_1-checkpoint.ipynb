{
 "cells": [
  {
   "cell_type": "code",
   "execution_count": 18,
   "metadata": {
    "autoscroll": false,
    "collapsed": false,
    "ein.hycell": false,
    "ein.tags": "worksheet-0",
    "slideshow": {
     "slide_type": "-"
    }
   },
   "outputs": [
    {
     "data": {
      "text/plain": [
       "2"
      ]
     },
     "execution_count": 18,
     "metadata": {},
     "output_type": "execute_result"
    }
   ],
   "source": [
    "ops = {\n",
    "    \"multiply\": lambda x,y: x * y,\n",
    "    \"addition\": lambda x,y: x + y,\n",
    "    \"subtraction\": lambda x,y: x - y,\n",
    "    \"division\": lambda x,y: x / y\n",
    "}\n",
    "\n",
    "def calc(arg1, arg2, op=\"addition\"):\n",
    "    if op not in ops:\n",
    "        raise NotImplementedError()\n",
    "    else:\n",
    "        l = ops[op]\n",
    "        return l(arg1,arg2)\n",
    "\n",
    "\n",
    "calc(1,2,\"multiply\")"
   ]
  },
  {
   "cell_type": "code",
   "execution_count": 41,
   "metadata": {
    "autoscroll": false,
    "collapsed": false,
    "ein.hycell": false,
    "ein.tags": "worksheet-0",
    "slideshow": {
     "slide_type": "-"
    }
   },
   "outputs": [
    {
     "data": {
      "text/plain": [
       "[[1, 2, 3, 2], [1, 2, 3]]"
      ]
     },
     "execution_count": 41,
     "metadata": {},
     "output_type": "execute_result"
    }
   ],
   "source": [
    "list = [1,2,2,3,2]\n",
    "\n",
    "def remove_adj_dups(list):\n",
    "    newlist = []\n",
    "    for i in range(0,len(list) - 1):\n",
    "        if list[i] is not list[i+1]:\n",
    "            newlist.append(list[i])\n",
    "    \n",
    "    newlist.append(list[len(list)-1])\n",
    "    return newlist\n",
    "\n",
    "def remove_dups(list):\n",
    "    newlist = []\n",
    "    for i in range(0,len(list)):\n",
    "        if list[i] not in newlist:\n",
    "            newlist.append(list[i])\n",
    "    \n",
    "    return newlist\n",
    "\n",
    "[remove_adj_dups(list),\n",
    " remove_dups(list)]"
   ]
  },
  {
   "cell_type": "code",
   "execution_count": 48,
   "metadata": {
    "autoscroll": false,
    "collapsed": true,
    "ein.hycell": false,
    "ein.tags": "worksheet-0",
    "slideshow": {
     "slide_type": "-"
    }
   },
   "outputs": [
    {
     "data": {
      "text/plain": [
       "{'Copyright': 1,\n",
       " '(c)': 1,\n",
       " '<year>': 1,\n",
       " '<owner>.': 1,\n",
       " 'All': 2,\n",
       " 'rights': 1,\n",
       " 'reserved.': 1,\n",
       " 'Redistribution': 1,\n",
       " 'and': 4,\n",
       " 'use': 2,\n",
       " 'in': 3,\n",
       " 'source': 2,\n",
       " 'binary': 2,\n",
       " 'forms,': 1,\n",
       " 'with': 2,\n",
       " 'or': 3,\n",
       " 'without': 2,\n",
       " 'modification,': 1,\n",
       " 'are': 2,\n",
       " 'permitted': 1,\n",
       " 'provided': 2,\n",
       " 'that': 1,\n",
       " 'the': 12,\n",
       " 'following': 4,\n",
       " 'conditions': 3,\n",
       " 'met:': 1,\n",
       " '1.': 1,\n",
       " 'Redistributions': 2,\n",
       " 'of': 6,\n",
       " 'code': 1,\n",
       " 'must': 3,\n",
       " 'retain': 1,\n",
       " 'above': 2,\n",
       " 'copyright': 3,\n",
       " 'notice,': 2,\n",
       " 'this': 4,\n",
       " 'list': 2,\n",
       " 'disclaimer.': 1,\n",
       " '2.': 1,\n",
       " 'form': 1,\n",
       " 'reproduce': 1,\n",
       " 'disclaimer': 1,\n",
       " 'documentation': 1,\n",
       " 'and/or': 1,\n",
       " 'other': 1,\n",
       " 'materials': 2,\n",
       " 'distribution.': 1,\n",
       " '3.': 1,\n",
       " 'advertising': 1,\n",
       " 'mentioning': 1,\n",
       " 'features': 1,\n",
       " 'software': 3,\n",
       " 'display': 1,\n",
       " 'acknowledgement:': 1,\n",
       " 'This': 1,\n",
       " 'product': 1,\n",
       " 'includes': 1,\n",
       " 'developed': 1,\n",
       " 'by': 1,\n",
       " 'organization.': 1,\n",
       " '4.': 1,\n",
       " 'Neither': 1,\n",
       " 'name': 1,\n",
       " 'holder': 1,\n",
       " 'nor': 1,\n",
       " 'names': 1,\n",
       " 'its': 1,\n",
       " 'contributors': 1,\n",
       " 'may': 1,\n",
       " 'be': 1,\n",
       " 'used': 1,\n",
       " 'to': 1,\n",
       " 'endorse': 1,\n",
       " 'promote': 1,\n",
       " 'products': 1,\n",
       " 'derived': 1,\n",
       " 'from': 1,\n",
       " 'specific': 1,\n",
       " 'prior': 1,\n",
       " 'written': 1,\n",
       " 'permission.': 1,\n",
       " 'THIS': 2,\n",
       " 'SOFTWARE': 1,\n",
       " 'IS': 1,\n",
       " 'PROVIDED': 1,\n",
       " 'BY': 1,\n",
       " 'COPYRIGHT': 2,\n",
       " 'HOLDER': 2,\n",
       " '\"AS': 1,\n",
       " 'IS\"': 1,\n",
       " 'AND': 3,\n",
       " 'ANY': 4,\n",
       " 'EXPRESS': 1,\n",
       " 'OR': 7,\n",
       " 'IMPLIED': 2,\n",
       " 'WARRANTIES,': 1,\n",
       " 'INCLUDING,': 1,\n",
       " 'BUT': 2,\n",
       " 'NOT': 2,\n",
       " 'LIMITED': 2,\n",
       " 'TO,': 2,\n",
       " 'THE': 3,\n",
       " 'WARRANTIES': 1,\n",
       " 'OF': 8,\n",
       " 'MERCHANTABILITY': 1,\n",
       " 'FITNESS': 1,\n",
       " 'FOR': 2,\n",
       " 'A': 1,\n",
       " 'PARTICULAR': 1,\n",
       " 'PURPOSE': 1,\n",
       " 'ARE': 1,\n",
       " 'DISCLAIMED.': 1,\n",
       " 'IN': 3,\n",
       " 'NO': 1,\n",
       " 'EVENT': 1,\n",
       " 'SHALL': 1,\n",
       " 'BE': 1,\n",
       " 'LIABLE': 1,\n",
       " 'DIRECT,': 1,\n",
       " 'INDIRECT,': 1,\n",
       " 'INCIDENTAL,': 1,\n",
       " 'SPECIAL,': 1,\n",
       " 'EXEMPLARY,': 1,\n",
       " 'CONSEQUENTIAL': 1,\n",
       " 'DAMAGES': 1,\n",
       " '(INCLUDING,': 1,\n",
       " 'PROCUREMENT': 1,\n",
       " 'SUBSTITUTE': 1,\n",
       " 'GOODS': 1,\n",
       " 'SERVICES;': 1,\n",
       " 'LOSS': 1,\n",
       " 'USE,': 1,\n",
       " 'DATA,': 1,\n",
       " 'PROFITS;': 1,\n",
       " 'BUSINESS': 1,\n",
       " 'INTERRUPTION)': 1,\n",
       " 'HOWEVER': 1,\n",
       " 'CAUSED': 1,\n",
       " 'ON': 1,\n",
       " 'THEORY': 1,\n",
       " 'LIABILITY,': 2,\n",
       " 'WHETHER': 1,\n",
       " 'CONTRACT,': 1,\n",
       " 'STRICT': 1,\n",
       " 'TORT': 1,\n",
       " '(INCLUDING': 1,\n",
       " 'NEGLIGENCE': 1,\n",
       " 'OTHERWISE)': 1,\n",
       " 'ARISING': 1,\n",
       " 'WAY': 1,\n",
       " 'OUT': 1,\n",
       " 'USE': 1,\n",
       " 'SOFTWARE,': 1,\n",
       " 'EVEN': 1,\n",
       " 'IF': 1,\n",
       " 'ADVISED': 1,\n",
       " 'POSSIBILITY': 1,\n",
       " 'SUCH': 1,\n",
       " 'DAMAGE.': 1}"
      ]
     },
     "execution_count": 48,
     "metadata": {},
     "output_type": "execute_result"
    }
   ],
   "source": [
    "def get_frequency_dict(file):\n",
    "    freq = {};\n",
    "    with open(file,'r') as f:\n",
    "        for line in f:\n",
    "            for word in line.split():\n",
    "                if word in freq:\n",
    "                    freq[word] += 1\n",
    "                else:\n",
    "                    freq[word] = 1\n",
    "\n",
    "    return freq\n",
    "\n",
    "get_frequency_dict('bsd.txt')"
   ]
  },
  {
   "cell_type": "code",
   "execution_count": 63,
   "metadata": {
    "autoscroll": false,
    "collapsed": false,
    "ein.hycell": false,
    "ein.tags": "worksheet-0",
    "slideshow": {
     "slide_type": "-"
    }
   },
   "outputs": [
    {
     "ename": "IndexError",
     "evalue": "only integers, slices (`:`), ellipsis (`...`), numpy.newaxis (`None`) and integer or boolean arrays are valid indices",
     "output_type": "error",
     "traceback": [
      "\u001b[0;31m---------------------------------------------------------------------------\u001b[0m",
      "\u001b[0;31mIndexError\u001b[0m                                Traceback (most recent call last)",
      "\u001b[0;32m<ipython-input-63-6404ac71e3e0>\u001b[0m in \u001b[0;36m<module>\u001b[0;34m()\u001b[0m\n\u001b[1;32m     22\u001b[0m \u001b[0;32mimport\u001b[0m \u001b[0mnumpy\u001b[0m \u001b[0;32mas\u001b[0m \u001b[0mnp\u001b[0m\u001b[0;34m\u001b[0m\u001b[0m\n\u001b[1;32m     23\u001b[0m \u001b[0;34m\u001b[0m\u001b[0m\n\u001b[0;32m---> 24\u001b[0;31m \u001b[0mnp\u001b[0m\u001b[0;34m.\u001b[0m\u001b[0marray\u001b[0m\u001b[0;34m(\u001b[0m\u001b[0mdb\u001b[0m\u001b[0;34m)\u001b[0m\u001b[0;34m[\u001b[0m\u001b[0;34m'name'\u001b[0m\u001b[0;34m]\u001b[0m\u001b[0;34m\u001b[0m\u001b[0m\n\u001b[0m",
      "\u001b[0;31mIndexError\u001b[0m: only integers, slices (`:`), ellipsis (`...`), numpy.newaxis (`None`) and integer or boolean arrays are valid indices"
     ]
    }
   ],
   "source": [
    "class Employee:\n",
    "\n",
    "    def __init__(self, name, years_of_service):\n",
    "        self.name = name\n",
    "        self.years_of_service = years_of_service\n",
    "\n",
    "    def salary(self):\n",
    "        return self.years_of_service * 100 + 1500\n",
    "\n",
    "class Manager(Employee):\n",
    "\n",
    "    def salary(self):\n",
    "        return self.years_of_service * 120 + 2500\n",
    "    \n"
   ]
  }
 ],
 "metadata": {
  "kernelspec": {
   "display_name": "Python 3",
   "name": "python3"
  },
  "language_info": {
   "codemirror_mode": {
    "name": "ipython",
    "version": 3
   },
   "file_extension": ".py",
   "mimetype": "text/x-python",
   "name": "python",
   "nbconvert_exporter": "python",
   "pygments_lexer": "ipython3",
   "version": "3.7.0"
  },
  "name": "group_assignment_1.ipynb"
 },
 "nbformat": 4,
 "nbformat_minor": 2
}
